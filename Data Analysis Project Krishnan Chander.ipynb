{
 "cells": [
  {
   "cell_type": "markdown",
   "id": "986075f2",
   "metadata": {},
   "source": [
    "# Analyzing Advanced Metrics of Wide Receiver Play in the NFL\n",
    "## Krishnan Chander\n",
    "\n",
    "The sport of American football, especially at the professional level in the National Football League (NFL), has seen an evolution over the last century to an offensive style dominated by the passing game. Even though running plays still play a vital role in moving the ball down the field, the efficiency of quarterbacks passing the ball forward and the lower chance of injuries sustained than when running the ball has led to the passing game being the primary style of all 32 NFL offensive units. This has led to the main school of thought around building a team's offense, whether through the draft, free agency or trading, being that not only is it vital to acquire a quarterback who can sling the ball with strength and accuracy, but that there are weapons for that quarterback in the form of wide receivers, tight ends, etc. who can not only make secure catches but also run the ball down the field after the catch and hopefully get a touchdown.  \n",
    "\n",
    "Physical measurables like size, strength and speed do help when considering which players to draft from college or sign when making either a free agency acquisition or trade. However, measurables are only part of the story; the ability of offensive coaches, whether at the head position or at an assistant level, to utilize the skillset of these players in moving the ball down the field by creating a variety of play packages that incorporate different formations and schemes that require different kinds of route running to get open and gain yards after the catch. Not only do the results of the play calls vary by team, but they actually have dependence on receiving position, as even running backs are being utilized frequently in catching passes on top of receivers and tight ends.  \n",
    "\n",
    "The objective of this project is to answer the following questions, based on receiving play data from the analytics firm Pro Football Focus (PFF) from the 2022-23 NFL season (including both regular season and playoff games):\n",
    "1. How do different receiving positions compare on various metrics related to scheme and concept?\n",
    "2. What are the best and worst teams in the league with regards to route running metrics in different defensive coverages?\n",
    "3. Where do the most productive receivers stand in terms of efficiently making deep catches?"
   ]
  },
  {
   "cell_type": "code",
   "execution_count": 1,
   "id": "eebfde45",
   "metadata": {},
   "outputs": [],
   "source": [
    "import numpy as np\n",
    "import pandas as pd\n",
    "import seaborn as sb\n",
    "import matplotlib.pyplot as plt"
   ]
  },
  {
   "cell_type": "code",
   "execution_count": 2,
   "id": "bd5b8291",
   "metadata": {},
   "outputs": [],
   "source": [
    "receiving_summary = pd.read_csv('receiving_summary.csv')\n",
    "receiving_depth = pd.read_csv('receiving_depth.csv')\n",
    "receiving_concept = pd.read_csv('receiving_concept.csv')\n",
    "receiving_scheme = pd.read_csv('receiving_scheme.csv')"
   ]
  },
  {
   "cell_type": "code",
   "execution_count": 3,
   "id": "4f651863",
   "metadata": {},
   "outputs": [],
   "source": [
    "# This is set to display all columns whenever showing a DataFrame, since these data sets have many features.\n",
    "\n",
    "pd.set_option('display.max_columns', None)"
   ]
  },
  {
   "cell_type": "markdown",
   "id": "27e2f75c",
   "metadata": {},
   "source": [
    "## 1. Receiving Stats by Position\n",
    "First we want to analyze the baseline statistics for receiving yards per play, both across all players and by position. This establishes what the general expectation is for receivers on the average play.  \n",
    "\n",
    "Below is a box plot showing the quartiles of yards per reception (YPR) across the league for the entire season. [Annotation source here](https://stackoverflow.com/questions/38649501/labeling-boxplot-in-seaborn-with-median-value)"
   ]
  },
  {
   "cell_type": "code",
   "execution_count": 4,
   "id": "d96ae484",
   "metadata": {},
   "outputs": [
    {
     "data": {
      "image/png": "[encoded data removed]",
      "text/plain": [
       "<Figure size 432x288 with 1 Axes>"
      ]
     },
     "metadata": {
      "needs_background": "light"
     },
     "output_type": "display_data"
    }
   ],
   "source": [
    "g = sb.boxplot(data=receiving_summary, x='yards_per_reception')\n",
    "g.set_xlabel('Yards per reception')\n",
    "g.text(receiving_summary['yards_per_reception'].median() - 2, -0.45,\n",
    "       'Median: {} yards'.format(receiving_summary['yards_per_reception'].median()),\n",
    "       size='small',color='r');"
   ]
  },
  {
   "cell_type": "markdown",
   "id": "698699e7",
   "metadata": {},
   "source": [
    "50% of the receiving players had an average YPR of at least 9.9 yards, so this gives us one statistic that establishes a baseline expectation of how many yards a player is expectated to gain on one play. Note that the outliers that are points outside the whiskers of the plot are either negative or very large. These are largely data points for players who may have had very few catches at all but either did poorly and lost yards or made a huge gain down the field.  \n",
    "\n",
    "Now let's look at a histogram showing the distribution of YPR for all players."
   ]
  },
  {
   "cell_type": "code",
   "execution_count": 5,
   "id": "05ba7a5c",
   "metadata": {},
   "outputs": [
    {
     "data": {
      "image/png": "[encoded data removed]",
      "text/plain": [
       "<Figure size 432x288 with 1 Axes>"
      ]
     },
     "metadata": {
      "needs_background": "light"
     },
     "output_type": "display_data"
    }
   ],
   "source": [
    "g = sb.histplot(data=receiving_summary, x='yards_per_reception', color='y')\n",
    "g.set_xlabel('Yards per reception')\n",
    "g.axvline(x=receiving_summary['yards_per_reception'].mean(), color='red', lw=3)\n",
    "g.text(receiving_summary['yards_per_reception'].mean() + 2, 70,\n",
    "       'Mean: {:.2f} yards'.format(receiving_summary['yards_per_reception'].mean()),\n",
    "       size='small',color='r');"
   ]
  },
  {
   "cell_type": "markdown",
   "id": "1b58637b",
   "metadata": {},
   "source": [
    "The mean YPR is 10.3 yards, which is slightly above the median. Both statistics give us an idea of what the expected yards per play should be for the average receiver. However, how do different positions compare, and furthermore do all positions matter when going forward with our analysis? We can answer that by plotting a box plot of YPR grouped by position."
   ]
  },
  {
   "cell_type": "code",
   "execution_count": 6,
   "id": "af910fee",
   "metadata": {},
   "outputs": [
    {
     "data": {
      "image/png": "[encoded data removed]",
      "text/plain": [
       "<Figure size 432x288 with 1 Axes>"
      ]
     },
     "metadata": {
      "needs_background": "light"
     },
     "output_type": "display_data"
    }
   ],
   "source": [
    "g = sb.boxplot(data=receiving_summary, x='yards_per_reception', y='position')\n",
    "g.set_xlabel('Yards per reception')\n",
    "g.set_ylabel('Position')\n",
    "g.text(45, -0.5, 'Values')\n",
    "for ytick in g.get_yticks():\n",
    "    pos = g.get_yticklabels()[ytick].get_text()\n",
    "    g.text(45, ytick, len(receiving_summary[receiving_summary['position'] == pos]))"
   ]
  },
  {
   "cell_type": "markdown",
   "id": "28cbab94",
   "metadata": {},
   "source": [
    "The wide receiver (WR), tight end (TE) and running back (HB, which stands for halfback but will be referred to as running back for the sake of clarity) positions all have more than 100 players listed in the summary statistics data. Other positions do not have nearly as many players with receiving stats, so we can clean up the summary table by including only the three aforementioned positions."
   ]
  },
  {
   "cell_type": "code",
   "execution_count": 7,
   "id": "866745db",
   "metadata": {},
   "outputs": [
    {
     "data": {
      "text/plain": [
       "WR    227\n",
       "HB    134\n",
       "TE    119\n",
       "Name: position, dtype: int64"
      ]
     },
     "execution_count": 7,
     "metadata": {},
     "output_type": "execute_result"
    }
   ],
   "source": [
    "receiving_summary = receiving_summary[receiving_summary['position'].isin(['WR', 'TE', 'HB'])]\n",
    "receiving_summary['position'].value_counts()"
   ]
  },
  {
   "cell_type": "markdown",
   "id": "f5dbb501",
   "metadata": {},
   "source": [
    "Now we can take a look at YPR distribution by position."
   ]
  },
  {
   "cell_type": "code",
   "execution_count": 8,
   "id": "73868c11",
   "metadata": {},
   "outputs": [
    {
     "data": {
      "image/png": "[encoded data removed]",
      "text/plain": [
       "<Figure size 432x288 with 1 Axes>"
      ]
     },
     "metadata": {
      "needs_background": "light"
     },
     "output_type": "display_data"
    }
   ],
   "source": [
    "g = sb.boxplot(data=receiving_summary, x='yards_per_reception', y='position')\n",
    "g.set_xlabel('Yards per reception')\n",
    "g.set_ylabel('Position')\n",
    "g.text(45, -0.5, 'Median YPA')\n",
    "for ytick in g.get_yticks():\n",
    "    pos = g.get_yticklabels()[ytick].get_text()\n",
    "    g.text(45, ytick,\n",
    "           receiving_summary[receiving_summary['position'] == pos]['yards_per_reception'].median())"
   ]
  },
  {
   "cell_type": "markdown",
   "id": "b5737cef",
   "metadata": {},
   "source": [
    "The median YPA statistics show a clear pattern by high-volume positions. Wide receivers have a median YPA of 12 yards, tight ends 9.95 yards, and running backs 7 yards. This shows that wide receivers can be trusted to get more yards overall than anyone else on a passing play, but tight ends can get enough yards as well and more than running backs. With that said, YPA accounts for both the depth of the catch and the receiver's yards after the catch (YAC). How does that compare between positions?"
   ]
  },
  {
   "cell_type": "code",
   "execution_count": 9,
   "id": "56893502",
   "metadata": {},
   "outputs": [
    {
     "data": {
      "image/png": "[encoded data removed]",
      "text/plain": [
       "<Figure size 432x288 with 1 Axes>"
      ]
     },
     "metadata": {
      "needs_background": "light"
     },
     "output_type": "display_data"
    }
   ],
   "source": [
    "g = sb.boxplot(data=receiving_summary, x='yards_after_catch_per_reception', y='position')\n",
    "g.set_xlabel('Yards after catch per reception')\n",
    "g.set_ylabel('Position')\n",
    "g.text(45, -0.5, 'Median YAC')\n",
    "for ytick in g.get_yticks():\n",
    "    pos = g.get_yticklabels()[ytick].get_text()\n",
    "    g.text(45, ytick,\n",
    "           receiving_summary[receiving_summary['position'] == pos]['yards_after_catch_per_reception'].median())"
   ]
  },
  {
   "cell_type": "code",
   "execution_count": null,
   "id": "d004960a",
   "metadata": {},
   "outputs": [],
   "source": []
  }
 ],
 "metadata": {
  "kernelspec": {
   "display_name": "Python 3 (ipykernel)",
   "language": "python",
   "name": "python3"
  },
  "language_info": {
   "codemirror_mode": {
    "name": "ipython",
    "version": 3
   },
   "file_extension": ".py",
   "mimetype": "text/x-python",
   "name": "python",
   "nbconvert_exporter": "python",
   "pygments_lexer": "ipython3",
   "version": "3.8.12"
  }
 },
 "nbformat": 4,
 "nbformat_minor": 5
}
