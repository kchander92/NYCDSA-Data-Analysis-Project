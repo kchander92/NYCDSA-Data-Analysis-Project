{
 "cells": [
  {
   "cell_type": "markdown",
   "id": "986075f2",
   "metadata": {},
   "source": [
    "# Analyzing Advanced Metrics of Wide Receiver Play in the NFL\n",
    "## Krishnan Chander\n",
    "\n",
    "The sport of American football, especially at the professional level in the National Football League (NFL), has seen an evolution over the last century to an offensive style dominated by the passing game. Even though running plays still play a vital role in moving the ball down the field, the efficiency of quarterbacks passing the ball forward and the lower chance of injuries sustained than when running the ball has led to the passing game being the primary style of all 32 NFL offensive units. This has led to the main school of thought around building a team's offense, whether through the draft, free agency or trading, being that not only is it vital to acquire a quarterback who can sling the ball with strength and accuracy, but that there are weapons for that quarterback in the form of wide receivers, tight ends, etc. who can not only make secure catches but also run the ball down the field after the catch and hopefully get a touchdown.  \n",
    "\n",
    "Physical measurables like size, strength and speed do help when considering which players to draft from college or sign when making either a free agency acquisition or trade. However, measurables are only part of the story; the ability of offensive coaches, whether at the head position or at an assistant level, to utilize the skillset of these players in moving the ball down the field by creating a variety of play packages that incorporate different formations and schemes that require different kinds of route running to get open and gain yards after the catch. Not only do the results of the play calls vary by team, but they actually have dependence on receiving position, as even running backs are being utilized frequently in catching passes on top of receivers and tight ends.  \n",
    "\n",
    "The objective of this project is to answer the following questions, based on receiving play data from the analytics firm Pro Football Focus (PFF) from the 2022-23 NFL season (including both regular season and playoff games):\n",
    "1. How do different receiving positions compare on various metrics related to scheme and concept?\n",
    "2. What are the best and worst teams in the league with regards to route running metrics in different defensive coverages?\n",
    "3. Where do the most productive receivers stand in terms of efficiently making deep catches?"
   ]
  },
  {
   "cell_type": "code",
   "execution_count": 1,
   "id": "eebfde45",
   "metadata": {},
   "outputs": [],
   "source": [
    "import numpy as np\n",
    "import pandas as pd\n",
    "import seaborn as sb\n",
    "import matplotlib.pyplot as plt"
   ]
  },
  {
   "cell_type": "code",
   "execution_count": 2,
   "id": "1e6b8309",
   "metadata": {},
   "outputs": [],
   "source": [
    "receiving_summary = pd.read_csv('receiving_summary.csv')\n",
    "receiving_depth = pd.read_csv('receiving_depth.csv')\n",
    "receiving_concept = pd.read_csv('receiving_concept.csv')\n",
    "receiving_scheme = pd.read_csv('receiving_scheme.csv')"
   ]
  },
  {
   "cell_type": "code",
   "execution_count": 3,
   "id": "a75b6144",
   "metadata": {},
   "outputs": [],
   "source": [
    "# This is set to display all columns whenever showing a DataFrame, since these data sets have many features.\n",
    "\n",
    "pd.set_option('display.max_columns', None)"
   ]
  },
  {
   "cell_type": "code",
   "execution_count": null,
   "id": "2141ea72",
   "metadata": {},
   "outputs": [],
   "source": []
  }
 ],
 "metadata": {
  "kernelspec": {
   "display_name": "Python 3 (ipykernel)",
   "language": "python",
   "name": "python3"
  },
  "language_info": {
   "codemirror_mode": {
    "name": "ipython",
    "version": 3
   },
   "file_extension": ".py",
   "mimetype": "text/x-python",
   "name": "python",
   "nbconvert_exporter": "python",
   "pygments_lexer": "ipython3",
   "version": "3.8.12"
  }
 },
 "nbformat": 4,
 "nbformat_minor": 5
}
